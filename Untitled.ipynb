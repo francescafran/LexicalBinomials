{
 "cells": [
  {
   "cell_type": "code",
   "execution_count": 15,
   "metadata": {
    "collapsed": false
   },
   "outputs": [
    {
     "data": {
      "text/html": [
       "<iframe name=\"ngram_chart\" src=\"https://books.google.com/ngrams/interactive_chart?content=(bianco+e+nero)%2C(nero+e+bianco)&year_start=1780&year_end=2000&corpus=22&smoothing=0&share=&direct_url=t1%3B%2C(bianco%20e%20nero)%3B%2Cc0%3B.t1%3B%2C(nero%20e%20bianco)%3B%2Cc0\" width=900 height=500 marginwidth=0 marginheight=0 hspace=0 vspace=0 frameborder=0 scrolling=no></iframe>"
      ],
      "text/plain": [
       "<IPython.core.display.HTML object>"
      ]
     },
     "metadata": {},
     "output_type": "display_data"
    }
   ],
   "source": [
    "%%HTML\n",
    "<iframe name=\"ngram_chart\" src=\"https://books.google.com/ngrams/interactive_chart?content=(bianco+e+nero)%2C(nero+e+bianco)&year_start=1780&year_end=2000&corpus=22&smoothing=0&share=&direct_url=t1%3B%2C(bianco%20e%20nero)%3B%2Cc0%3B.t1%3B%2C(nero%20e%20bianco)%3B%2Cc0\" width=900 height=300 marginwidth=0 marginheight=0 hspace=0 vspace=0 frameborder=0 scrolling=no></iframe>"
   ]
  },
  {
   "cell_type": "code",
   "execution_count": 16,
   "metadata": {
    "collapsed": false
   },
   "outputs": [
    {
     "data": {
      "text/html": [
       "<iframe name=\"ngram_chart\" src=\"https://books.google.com/ngrams/interactive_chart?content=(bianco+e+nero)%2F((bianco+e+nero)%2B(nero+e+bianco))%2C(nero+e+bianco)%2F((bianco+e+nero)%2B(nero+e+bianco))&year_start=1780&year_end=2000&corpus=22&smoothing=0&share=&direct_url=t1%3B%2C(bianco%20e%20nero)%20/%20((bianco%20e%20nero)%20%2B%20(nero%20e%20bianco))%3B%2Cc0%3B.t1%3B%2C(nero%20e%20bianco)%20/%20((bianco%20e%20nero)%20%2B%20(nero%20e%20bianco))%3B%2Cc0\" width=900 height=500 marginwidth=0 marginheight=0 hspace=0 vspace=0 frameborder=0 scrolling=no></iframe>"
      ],
      "text/plain": [
       "<IPython.core.display.HTML object>"
      ]
     },
     "metadata": {},
     "output_type": "display_data"
    }
   ],
   "source": [
    "%%HTML\n",
    "<iframe name=\"ngram_chart\" src=\"https://books.google.com/ngrams/interactive_chart?content=(bianco+e+nero)%2F((bianco+e+nero)%2B(nero+e+bianco))%2C(nero+e+bianco)%2F((bianco+e+nero)%2B(nero+e+bianco))&year_start=1780&year_end=2000&corpus=22&smoothing=0&share=&direct_url=t1%3B%2C(bianco%20e%20nero)%20/%20((bianco%20e%20nero)%20%2B%20(nero%20e%20bianco))%3B%2Cc0%3B.t1%3B%2C(nero%20e%20bianco)%20/%20((bianco%20e%20nero)%20%2B%20(nero%20e%20bianco))%3B%2Cc0\" width=900 height=500 marginwidth=0 marginheight=0 hspace=0 vspace=0 frameborder=0 scrolling=no></iframe>"
   ]
  },
  {
   "cell_type": "code",
   "execution_count": 6,
   "metadata": {
    "collapsed": false,
    "scrolled": true
   },
   "outputs": [
    {
     "data": {
      "text/html": [
       "<iframe name=\"ngram_chart\" src=\"https://books.google.com/ngrams/interactive_chart?content=noir+et+blanc%2C+blanc+et+noir&year_start=1600&year_end=2000&corpus=19&smoothing=3&share=&direct_url=t1%3B%2Cnoir%20et%20blanc%3B%2Cc0%3B.t1%3B%2Cblanc%20et%20noir%3B%2Cc0\" width=900 height=500 marginwidth=0 marginheight=0 hspace=0 vspace=0 frameborder=0 scrolling=no></iframe>"
      ],
      "text/plain": [
       "<IPython.core.display.HTML object>"
      ]
     },
     "metadata": {},
     "output_type": "display_data"
    }
   ],
   "source": [
    "%%HTML\n",
    "<iframe name=\"ngram_chart\" src=\"https://books.google.com/ngrams/interactive_chart?content=noir+et+blanc%2C+blanc+et+noir&year_start=1600&year_end=2000&corpus=19&smoothing=3&share=&direct_url=t1%3B%2Cnoir%20et%20blanc%3B%2Cc0%3B.t1%3B%2Cblanc%20et%20noir%3B%2Cc0\" width=900 height=500 marginwidth=0 marginheight=0 hspace=0 vspace=0 frameborder=0 scrolling=no></iframe>"
   ]
  },
  {
   "cell_type": "code",
   "execution_count": 12,
   "metadata": {
    "collapsed": false
   },
   "outputs": [
    {
     "data": {
      "text/html": [
       "<iframe name=\"ngram_chart\" src=\"https://books.google.com/ngrams/interactive_chart?content=(noir+et+blanc)%2F((noir+et+blanc)%2B(blanc+et+noir))%2C(blanc+et+noir)%2F((noir+et+blanc)%2B(blanc+et+noir))&year_start=1800&year_end=2000&corpus=19&smoothing=0&share=&direct_url=t1%3B%2C(noir%20et%20blanc)%20/%20((noir%20et%20blanc)%20%2B%20(blanc%20et%20noir))%3B%2Cc0%3B.t1%3B%2C(blanc%20et%20noir)%20/%20((noir%20et%20blanc)%20%2B%20(blanc%20et%20noir))%3B%2Cc0\" width=900 height=500 marginwidth=0 marginheight=0 hspace=0 vspace=0 frameborder=0 scrolling=no></iframe>"
      ],
      "text/plain": [
       "<IPython.core.display.HTML object>"
      ]
     },
     "metadata": {},
     "output_type": "display_data"
    }
   ],
   "source": [
    "%%HTML\n",
    "<iframe name=\"ngram_chart\" src=\"https://books.google.com/ngrams/interactive_chart?content=(noir+et+blanc)%2F((noir+et+blanc)%2B(blanc+et+noir))%2C(blanc+et+noir)%2F((noir+et+blanc)%2B(blanc+et+noir))&year_start=1800&year_end=2000&corpus=19&smoothing=0&share=&direct_url=t1%3B%2C(noir%20et%20blanc)%20/%20((noir%20et%20blanc)%20%2B%20(blanc%20et%20noir))%3B%2Cc0%3B.t1%3B%2C(blanc%20et%20noir)%20/%20((noir%20et%20blanc)%20%2B%20(blanc%20et%20noir))%3B%2Cc0\" width=900 height=500 marginwidth=0 marginheight=0 hspace=0 vspace=0 frameborder=0 scrolling=no></iframe>"
   ]
  },
  {
   "cell_type": "code",
   "execution_count": 10,
   "metadata": {
    "collapsed": false
   },
   "outputs": [
    {
     "data": {
      "text/html": [
       "<iframe name=\"ngram_chart\" src=\"https://books.google.com/ngrams/interactive_chart?content=blanco+y+negro%2C+negro+y+blanco&year_start=1800&year_end=2000&corpus=21&smoothing=3&share=&direct_url=t1%3B%2Cblanco%20y%20negro%3B%2Cc0%3B.t1%3B%2Cnegro%20y%20blanco%3B%2Cc0\" width=900 height=500 marginwidth=0 marginheight=0 hspace=0 vspace=0 frameborder=0 scrolling=no></iframe>"
      ],
      "text/plain": [
       "<IPython.core.display.HTML object>"
      ]
     },
     "metadata": {},
     "output_type": "display_data"
    }
   ],
   "source": [
    "%%HTML\n",
    "<iframe name=\"ngram_chart\" src=\"https://books.google.com/ngrams/interactive_chart?content=blanco+y+negro%2C+negro+y+blanco&year_start=1800&year_end=2000&corpus=21&smoothing=3&share=&direct_url=t1%3B%2Cblanco%20y%20negro%3B%2Cc0%3B.t1%3B%2Cnegro%20y%20blanco%3B%2Cc0\" width=900 height=500 marginwidth=0 marginheight=0 hspace=0 vspace=0 frameborder=0 scrolling=no></iframe>"
   ]
  },
  {
   "cell_type": "code",
   "execution_count": 9,
   "metadata": {
    "collapsed": false
   },
   "outputs": [
    {
     "data": {
      "text/html": [
       "<iframe name=\"ngram_chart\" src=\"https://books.google.com/ngrams/interactive_chart?content=(blanco+y+negro)%2F((blanco+y+negro)%2B(negro+y+blanco))%2C(negro+y+blanco)%2F((blanco+y+negro)%2B(negro+y+blanco))&year_start=1800&year_end=2000&corpus=21&smoothing=0&share=&direct_url=t1%3B%2C(blanco%20y%20negro)%20/%20((blanco%20y%20negro)%20%2B%20(negro%20y%20blanco))%3B%2Cc0%3B.t1%3B%2C(negro%20y%20blanco)%20/%20((blanco%20y%20negro)%20%2B%20(negro%20y%20blanco))%3B%2Cc0\" width=900 height=500 marginwidth=0 marginheight=0 hspace=0 vspace=0 frameborder=0 scrolling=no></iframe>"
      ],
      "text/plain": [
       "<IPython.core.display.HTML object>"
      ]
     },
     "metadata": {},
     "output_type": "display_data"
    }
   ],
   "source": [
    "%%HTML\n",
    "<iframe name=\"ngram_chart\" src=\"https://books.google.com/ngrams/interactive_chart?content=(blanco+y+negro)%2F((blanco+y+negro)%2B(negro+y+blanco))%2C(negro+y+blanco)%2F((blanco+y+negro)%2B(negro+y+blanco))&year_start=1800&year_end=2000&corpus=21&smoothing=0&share=&direct_url=t1%3B%2C(blanco%20y%20negro)%20/%20((blanco%20y%20negro)%20%2B%20(negro%20y%20blanco))%3B%2Cc0%3B.t1%3B%2C(negro%20y%20blanco)%20/%20((blanco%20y%20negro)%20%2B%20(negro%20y%20blanco))%3B%2Cc0\" width=900 height=500 marginwidth=0 marginheight=0 hspace=0 vspace=0 frameborder=0 scrolling=no></iframe>"
   ]
  },
  {
   "cell_type": "code",
   "execution_count": 13,
   "metadata": {
    "collapsed": false
   },
   "outputs": [
    {
     "data": {
      "text/html": [
       "<iframe name=\"ngram_chart\" src=\"https://books.google.com/ngrams/interactive_chart?content=(black+and+white)%2C(white+and+black)&year_start=1700&year_end=2000&corpus=15&smoothing=0&share=&direct_url=t1%3B%2C(black%20and%20white)%3B%2Cc0%3B.t1%3B%2C(white%20and%20black)%3B%2Cc0\" width=900 height=500 marginwidth=0 marginheight=0 hspace=0 vspace=0 frameborder=0 scrolling=no></iframe>"
      ],
      "text/plain": [
       "<IPython.core.display.HTML object>"
      ]
     },
     "metadata": {},
     "output_type": "display_data"
    }
   ],
   "source": [
    "%%HTML\n",
    "<iframe name=\"ngram_chart\" src=\"https://books.google.com/ngrams/interactive_chart?content=(black+and+white)%2C(white+and+black)&year_start=1700&year_end=2000&corpus=15&smoothing=0&share=&direct_url=t1%3B%2C(black%20and%20white)%3B%2Cc0%3B.t1%3B%2C(white%20and%20black)%3B%2Cc0\" width=900 height=500 marginwidth=0 marginheight=0 hspace=0 vspace=0 frameborder=0 scrolling=no></iframe>"
   ]
  },
  {
   "cell_type": "code",
   "execution_count": null,
   "metadata": {
    "collapsed": true
   },
   "outputs": [],
   "source": []
  },
  {
   "cell_type": "code",
   "execution_count": 4,
   "metadata": {
    "collapsed": false
   },
   "outputs": [
    {
     "data": {
      "text/html": [
       "<iframe name=\"ngram_chart\" src=\"https://books.google.com/ngrams/interactive_chart?content=(black+and+white)%2F((black+and+white)%2B(white+and+black))%2C(white+and+black)%2F((black+and+white)%2B(white+and+black))&year_start=1600&year_end=2000&corpus=15&smoothing=0&share=&direct_url=t1%3B%2C(black%20and%20white)%20/%20((black%20and%20white)%20%2B%20(white%20and%20black))%3B%2Cc0%3B.t1%3B%2C(white%20and%20black)%20/%20((black%20and%20white)%20%2B%20(white%20and%20black))%3B%2Cc0\" width=900 height=500 marginwidth=0 marginheight=0 hspace=0 vspace=0 frameborder=0 scrolling=no></iframe>"
      ],
      "text/plain": [
       "<IPython.core.display.HTML object>"
      ]
     },
     "metadata": {},
     "output_type": "display_data"
    }
   ],
   "source": [
    "%%HTML\n",
    "<iframe name=\"ngram_chart\" src=\"https://books.google.com/ngrams/interactive_chart?content=(black+and+white)%2F((black+and+white)%2B(white+and+black))%2C(white+and+black)%2F((black+and+white)%2B(white+and+black))&year_start=1600&year_end=2000&corpus=15&smoothing=0&share=&direct_url=t1%3B%2C(black%20and%20white)%20/%20((black%20and%20white)%20%2B%20(white%20and%20black))%3B%2Cc0%3B.t1%3B%2C(white%20and%20black)%20/%20((black%20and%20white)%20%2B%20(white%20and%20black))%3B%2Cc0\" width=900 height=500 marginwidth=0 marginheight=0 hspace=0 vspace=0 frameborder=0 scrolling=no></iframe>"
   ]
  },
  {
   "cell_type": "code",
   "execution_count": null,
   "metadata": {
    "collapsed": true
   },
   "outputs": [],
   "source": []
  }
 ],
 "metadata": {
  "kernelspec": {
   "display_name": "Python 2",
   "language": "python",
   "name": "python2"
  },
  "language_info": {
   "codemirror_mode": {
    "name": "ipython",
    "version": 2
   },
   "file_extension": ".py",
   "mimetype": "text/x-python",
   "name": "python",
   "nbconvert_exporter": "python",
   "pygments_lexer": "ipython2",
   "version": "2.7.11"
  }
 },
 "nbformat": 4,
 "nbformat_minor": 0
}
